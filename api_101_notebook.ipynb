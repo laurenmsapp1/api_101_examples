{
 "cells": [
  {
   "cell_type": "code",
   "execution_count": 2,
   "id": "e5af7d44",
   "metadata": {},
   "outputs": [],
   "source": [
    "import pandas as pd\n",
    "import requests"
   ]
  },
  {
   "cell_type": "code",
   "execution_count": 3,
   "id": "05020ec4",
   "metadata": {},
   "outputs": [],
   "source": [
    "url = \"https://meowfacts.herokuapp.com/?count=10\"\n",
    "response = requests.get(url)\n"
   ]
  },
  {
   "cell_type": "code",
   "execution_count": 4,
   "id": "33870c85",
   "metadata": {},
   "outputs": [
    {
     "name": "stdout",
     "output_type": "stream",
     "text": [
      "success!\n"
     ]
    }
   ],
   "source": [
    "# Check if the request was successful\n",
    "if response.status_code == 200:\n",
    "    data = response.json()\n",
    "    print('success!')\n",
    "else:\n",
    "    print(f\"Error: {response.status_code}\")"
   ]
  },
  {
   "cell_type": "code",
   "execution_count": 5,
   "id": "2eda4038",
   "metadata": {},
   "outputs": [
    {
     "name": "stdout",
     "output_type": "stream",
     "text": [
      "                                                data\n",
      "0  Some common houseplants poisonous to cats incl...\n",
      "1        A happy cat holds her tail high and steady.\n",
      "2  Like birds, cats have a homing ability that us...\n",
      "3  The word 'cat' in various languages: French: c...\n",
      "4  Baking chocolate is the most dangerous chocola...\n",
      "5  In ancient Egypt, mummies were made of cats, a...\n",
      "6  The first cat show was in 1871 at the Crystal ...\n",
      "7  Cats can get tapeworms from eating mice. If yo...\n",
      "8  A cat can sprint at about thirty-one miles per...\n",
      "9   Adult cats only meow to communicate with humans.\n"
     ]
    }
   ],
   "source": [
    "df = pd.DataFrame(data)\n",
    "print(df)"
   ]
  },
  {
   "cell_type": "code",
   "execution_count": 7,
   "id": "36065e93",
   "metadata": {},
   "outputs": [
    {
     "name": "stdout",
     "output_type": "stream",
     "text": [
      "                                                data\n",
      "0  Some common houseplants poisonous to cats incl...\n",
      "1        A happy cat holds her tail high and steady.\n",
      "2  Like birds, cats have a homing ability that us...\n",
      "3  The word 'cat' in various languages: French: c...\n",
      "4  Baking chocolate is the most dangerous chocola...\n"
     ]
    }
   ],
   "source": [
    "print(df.head(5))"
   ]
  },
  {
   "cell_type": "code",
   "execution_count": null,
   "id": "f9c2b18e",
   "metadata": {},
   "outputs": [],
   "source": []
  }
 ],
 "metadata": {
  "kernelspec": {
   "display_name": ".venv (3.13.7)",
   "language": "python",
   "name": "python3"
  },
  "language_info": {
   "codemirror_mode": {
    "name": "ipython",
    "version": 3
   },
   "file_extension": ".py",
   "mimetype": "text/x-python",
   "name": "python",
   "nbconvert_exporter": "python",
   "pygments_lexer": "ipython3",
   "version": "3.13.7"
  }
 },
 "nbformat": 4,
 "nbformat_minor": 5
}
